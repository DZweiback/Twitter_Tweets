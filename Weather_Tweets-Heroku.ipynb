{
 "cells": [
  {
   "cell_type": "markdown",
   "metadata": {},
   "source": [
    "### Instructions\n",
    "\n",
    "* Create a function that gets the weather in Washington, D.C. and Tweets it\n",
    "\n",
    "  * Construct a Query URL for the OpenWeatherMap\n",
    "\n",
    "  * Perform the API call to get the weather\n",
    "\n",
    "  * Set up your Twitter credentials\n",
    "\n",
    "  * Tweet the weather\n",
    "\n",
    "  * Print the success message \n",
    "\n",
    "  * Set timer to run every 1 minute (for your Heroku app)"
   ]
  },
  {
   "cell_type": "code",
   "execution_count": 1,
   "metadata": {},
   "outputs": [],
   "source": [
    "# Dependencies\n",
    "import tweepy\n",
    "import time\n",
    "import json\n",
    "import random\n",
    "import requests as req\n",
    "import datetime\n",
    "import os"
   ]
  },
  {
   "cell_type": "code",
   "execution_count": 2,
   "metadata": {},
   "outputs": [],
   "source": [
    "# Import Twitter and Weather API Keys\n",
    "\n",
    "## COMMENT THIS OUT before deploying to Heroku!\n",
    "#import sys\n",
    "#sys.path.append('../../../../..')\n",
    "#from config import consumer_key, consumer_secret, access_token, access_token_secret\n",
    "#weather_api_key = \"25bc90a1196e6f153eece0bc0b0fc9eb\"\n",
    "\n",
    "## REMOVE THESE COMMENTS before deploying to Heroku!\n",
    "consumer_key = os.environ.get(\"consumer_key\")\n",
    "consumer_secret = os.environ.get(\"consumer_secret\")\n",
    "access_token = os.environ.get(\"access_token\")\n",
    "access_token_secret = os.environ.get(\"access_token_secret\")\n",
    "weather_api_key = os.environ.get(\"weather_api_key\")"
   ]
  },
  {
   "cell_type": "code",
   "execution_count": null,
   "metadata": {},
   "outputs": [],
   "source": [
    "# Create a function that gets the weather in Washington, DC and Tweets it\n",
    "def WeatherTweet():\n",
    "\n",
    "    # Construct a Query URL for the OpenWeatherMap\n",
    "    url = \"http://api.openweathermap.org/data/2.5/weather?\"\n",
    "    city = \"Washington, D.C.\"\n",
    "    units = \"imperial\"\n",
    "    query_url = url + \"appid=\" + weather_api_key + \"&q=\" + city + \"&units=\" + units\n",
    "\n",
    "    # Perform the API call to get the weather\n",
    "    weather_response = req.get(query_url)\n",
    "    weather_json = weather_response.json()\n",
    "    print(weather_json)\n",
    "\n",
    "    # Twitter credentials\n",
    "    auth = tweepy.OAuthHandler(consumer_key, consumer_secret)\n",
    "    auth.set_access_token(access_token, access_token_secret)\n",
    "    api = tweepy.API(auth, parser=tweepy.parsers.JSONParser())\n",
    "\n",
    "    # Tweet the weather\n",
    "    api.update_status(\n",
    "        \"Weather in Washington, DC at \" +\\\n",
    "        (datetime.datetime.now().strftime(\"%I:%M %p\") + \" is \" +\\\n",
    "         str(weather_json[\"main\"][\"temp\"])+\"F\"))\n",
    "\n",
    "    # Print success message\n",
    "    print(\"Tweeted successfully!\")"
   ]
  },
  {
   "cell_type": "code",
   "execution_count": null,
   "metadata": {},
   "outputs": [],
   "source": [
    "# Set timer to run every 1 minute (for testing a Twitter deployment)\n",
    "while(True):\n",
    "    WeatherTweet()\n",
    "    time.sleep(60)"
   ]
  },
  {
   "cell_type": "markdown",
   "metadata": {},
   "source": [
    "### Export this file to Python (.py)\n",
    "\n",
    "In order to run this deploy this script to Heroku, you will need to export this as a Python script (.py)\n",
    "\n",
    "* From the Jupyter Notebook menu bar, click **File**\n",
    "* Choose **Download as**\n",
    "* Select **Python (.py)**\n",
    "\n",
    "#### Before exporting to Python, be sure to replace the variable references!"
   ]
  }
 ],
 "metadata": {
  "kernelspec": {
   "display_name": "Python 3",
   "language": "python",
   "name": "python3"
  },
  "language_info": {
   "codemirror_mode": {
    "name": "ipython",
    "version": 3
   },
   "file_extension": ".py",
   "mimetype": "text/x-python",
   "name": "python",
   "nbconvert_exporter": "python",
   "pygments_lexer": "ipython3",
   "version": "3.7.0"
  },
  "varInspector": {
   "cols": {
    "lenName": 16,
    "lenType": 16,
    "lenVar": 40
   },
   "kernels_config": {
    "python": {
     "delete_cmd_postfix": "",
     "delete_cmd_prefix": "del ",
     "library": "var_list.py",
     "varRefreshCmd": "print(var_dic_list())"
    },
    "r": {
     "delete_cmd_postfix": ") ",
     "delete_cmd_prefix": "rm(",
     "library": "var_list.r",
     "varRefreshCmd": "cat(var_dic_list()) "
    }
   },
   "types_to_exclude": [
    "module",
    "function",
    "builtin_function_or_method",
    "instance",
    "_Feature"
   ],
   "window_display": false
  }
 },
 "nbformat": 4,
 "nbformat_minor": 2
}
